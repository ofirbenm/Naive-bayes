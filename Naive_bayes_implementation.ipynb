{
  "nbformat": 4,
  "nbformat_minor": 0,
  "metadata": {
    "colab": {
      "name": "315923151_206065989.ipynb",
      "provenance": [],
      "collapsed_sections": [
        "Rum6hqi0I2V1",
        "0pN1prGcMqwZ",
        "nOnkgDIXTMCQ"
      ]
    },
    "kernelspec": {
      "display_name": "Python 3",
      "language": "python",
      "name": "python3"
    },
    "language_info": {
      "codemirror_mode": {
        "name": "ipython",
        "version": 3
      },
      "file_extension": ".py",
      "mimetype": "text/x-python",
      "name": "python",
      "nbconvert_exporter": "python",
      "pygments_lexer": "ipython3",
      "version": "3.7.6"
    }
  },
  "cells": [
    {
      "cell_type": "markdown",
      "metadata": {
        "id": "Uq_3t_tluNmU"
      },
      "source": [
        "# Naive Bayes"
      ]
    },
    {
      "cell_type": "markdown",
      "metadata": {
        "id": "Rum6hqi0I2V1"
      },
      "source": [
        "## Write your id numbers and names here\n",
        "\n",
        "\n",
        "1.   List item\n",
        "2.   List item\n"
      ]
    },
    {
      "cell_type": "markdown",
      "metadata": {
        "id": "TQVMUZkQHlm2"
      },
      "source": [
        "## 1. Classifying Digits\n",
        "In this part we will test digits classification on the MNIST dataset, using Bernoulli Naive Bayes (a generative model), in contrast to the Multivariate Logistic Regression (a discriminative model) we used before.\n",
        "\n",
        "The MNIST dataset contains 28x28 grayscale images of handwritten digits between 0 and 9 (10 classes). For mathmatical analysis clarity, and for matching expected API, each image faltten to create a 1D array with 784 elements."
      ]
    },
    {
      "cell_type": "markdown",
      "metadata": {
        "id": "Cjwjk6pzLE-y"
      },
      "source": [
        "### Loading the MNIST dataset\n",
        "Load the MNIST data set. The digits dataset is one of datasets scikit-learn comes with that do not require the downloading of any file from some external website. Use \n",
        "```\n",
        "mnist = sklearn.datasets.fetch_mldata('MNIST original')\n",
        "```\n",
        "to fetch the original data. You may set the `data_home` to where you wish to download your data for caching. Each image is already transformed into a 1D integer array $x\\in [0,255]^{784}$, and the corresponding label is an integer $y\\in [0,9]$.\n",
        "\n",
        "Plot a single sample of each digit as the original image, so you get a feeling how the data looks like.\n",
        "\n",
        "Finally, divide your data into train and test sets, using 1/7 of the data for testing.\n",
        "\n",
        "---\n",
        "**Note 1:** Using `digits = sklearn.datasets.load_digits()` will only fetch a very small sample of the original set, with images resized to 8x8. This preprocessing of the data reduces dimensionality and gives invariance to small distortions - however, we will use the original data in this exercise. Feel free to test the proformance of the algorithms below on the preprocessed data as well.\n",
        "\n",
        "**Note 2:**\n",
        "Since ML-Data is deprecated, you may wish to use something like this:\n",
        ">```\n",
        "from keras.datasets import mnist\n",
        "(x_train, y_train), (x_test, y_test) = mnist.load_data()\n",
        "x_train = x_train.reshape(x_train.shape[0], 784)\n",
        "x_test = x_test.reshape(x_test.shape[0], 784)\n",
        "```"
      ]
    },
    {
      "cell_type": "code",
      "metadata": {
        "id": "0qpm7SzB20sX"
      },
      "source": [
        "from keras.datasets import mnist\n",
        "import matplotlib.pyplot as plt\n",
        "from sklearn.model_selection import train_test_split\n",
        "from sklearn.naive_bayes import BernoulliNB, MultinomialNB\n",
        "from sklearn import metrics\n",
        "import numpy as np\n",
        "import cv2\n",
        "from sklearn.metrics import confusion_matrix\n",
        "import seaborn as sns \n",
        "from sklearn.feature_extraction.text import CountVectorizer, TfidfVectorizer\n",
        "from sklearn.pipeline import make_pipeline\n",
        "from sklearn.datasets import fetch_20newsgroups\n",
        "import re\n",
        "from sklearn.base  import BaseEstimator, ClassifierMixin\n",
        "from sklearn.model_selection import learning_curve\n",
        "from sklearn.model_selection import ShuffleSplit\n"
      ],
      "execution_count": 39,
      "outputs": []
    },
    {
      "cell_type": "code",
      "metadata": {
        "id": "Wnoax9JP2IFv"
      },
      "source": [
        "(x_train, y_train), (x_test, y_test) = mnist.load_data()\n",
        "x_train = x_train.reshape(x_train.shape[0], 784)\n",
        "x_test = x_test.reshape(x_test.shape[0], 784)"
      ],
      "execution_count": 40,
      "outputs": []
    },
    {
      "cell_type": "code",
      "metadata": {
        "colab": {
          "base_uri": "https://localhost:8080/",
          "height": 141
        },
        "id": "Chs3BzjfgEtt",
        "outputId": "a0bb43e0-2753-45fd-97f5-f70025b4ab14"
      },
      "source": [
        "plt.figure(figsize=(20,20))\n",
        "\n",
        "next_digit = 0\n",
        "for i, matrix in enumerate(x_train):\n",
        "  if y_train[i] == next_digit:\n",
        "    digit = matrix.reshape(28, 28)\n",
        "    plt.subplot(1, 10, next_digit+1)\n",
        "    plt.imshow( digit/255 , cmap='gray') \n",
        "    plt.title(y_train[i])\n",
        "    plt.axis('off') \n",
        "    if next_digit == 9:\n",
        "      break\n",
        "    else:\n",
        "      next_digit += 1\n",
        "plt.show()\n"
      ],
      "execution_count": 41,
      "outputs": [
        {
          "output_type": "display_data",
          "data": {
            "image/png": "[encoded data removed]",
            "text/plain": [
              "<Figure size 1440x1440 with 10 Axes>"
            ]
          },
          "metadata": {
            "needs_background": "light"
          }
        }
      ]
    },
    {
      "cell_type": "markdown",
      "metadata": {
        "id": "WTGjjSKaFfE6"
      },
      "source": [
        "### Bernoulli Naive Bayes\n",
        "If we know how the digits are generated, then we know how to classify them (simply choose the digit class which will maximize the posterior probability) --- but which model should we use for describing the digits generation?\n",
        "\n",
        "In this part we will try a very simplified model of digits creation (which is obviously not the same as the \"real\" model), using a Naive Bayes over an underlying Bernoulli distribution --- that is, we will assume that given a digit class, the pixels of the images are the result of independent coin flips, each with its own \"head\" probability.\n",
        "\n",
        "Note that since we assume each pixl is either 0 (black) or 1 (white), we will need to adjust (preprocess) our data accrodingly (see below).\n",
        "\n",
        "So, the model is stated as follows:\n",
        "$$\n",
        "\\begin{align}\n",
        "\\text{Domain} && x \\in \\{0,1\\}^{784} \\\\\n",
        "\\text{Prior} && \\pi_j = \\Pr(y=j) \\\\\n",
        "\\text{Likelihood} && P_j(x) = \\Pr(x | y=j) \\\\\n",
        "\\end{align}\n",
        "$$\n",
        "\n",
        "Where for each $i\\in 0\\ldots 784$ it holds that\n",
        "$$\n",
        "P_{ji}(x_i) = \\Pr(x_i | y=j) =\n",
        "\\begin{cases}\n",
        "p_{ji} & \\text{if } x_i=1 \\\\\n",
        "1-p_{ji} & \\text{if } x_i=0 \\\\\n",
        "\\end{cases}\n",
        "$$\n"
      ]
    },
    {
      "cell_type": "markdown",
      "metadata": {
        "id": "WNjhD3IpL5bC"
      },
      "source": [
        "#### Question 1\n",
        "Write the classification rule based on this Naive Bayes model. \n",
        "How would you esitmate each of the parameters of the model based on the trainning data? \n",
        "Describe in text (preferably math notationns) the classification rule, and explain.\n",
        "\n",
        "**Bonus:** Think of edge cases which may effect your estimator in an undesired way."
      ]
    },
    {
      "cell_type": "markdown",
      "metadata": {
        "id": "0pN1prGcMqwZ"
      },
      "source": [
        "#### Answer 1\n",
        "**P(y=j | x)** = πⱼ * Pⱼ(x) / sum(Pⱼ(x)) = πⱼ * Pⱼ(x) ( sum(Pⱼ(x)) is constant ) \\\\\n",
        "**j** - the label (number between 0 to 9) \\\\\n",
        "**Priority** - \\\\\n",
        "πⱼ = (number of times label j has appeared) / (number of all occurrences in the dataset) \\\\\n",
        "**Likelihood** - \\\\\n",
        "for Bernoulli with 0,1 pixel values: \\\\\n",
        "Pⱼ(x) = mul(Pji(x)) = mul( pⱼᵢ^xᵢ * (1-pⱼᵢ)\\^(1-xᵢ) ) \\\\\n",
        "**Mul** mean we multiplicate all the xᵢ pixels  bernouli's probability \\\\\n",
        "we will operate log on Pⱼ(x) so i will looks like: \\\\\n",
        "Log(Pⱼ(x)) = sum(Log(Pji(x))) = sum( xᵢ * Log(pⱼᵢ) + (1-xᵢ) * Log(1-pⱼᵢ) ) \\\\\n",
        "\n",
        "pⱼᵢ = (number of examples from class j with pixel xᵢ=1) / (number of examples from class j) \\\\\n",
        "\n",
        "**Classification rule -** \\\n",
        "to find class Cᵢ we comput in the fit the probability for each pixel \\\\\n",
        "belonging to each Cᵢ, and to predict the class that this example most likely associated with  we search (by argmax function), the class that maximizes this probality.\n",
        "\n",
        "**Edge cases :** \\\\\n",
        "1.  When we study the model there may be a pixel xᵢ that during learning was the same in all samples (0 or 1), but in the test the situation does not have to be this way. \\\\\n",
        "To solve the problem we will use a **laplace** which gives a different probability from 0 even for cases that were not.\n",
        "\n",
        "2. When others multiply a lot of probabilities there is a problem of converging to 0. \\\\\n",
        "The solution to the problem is to use **logarithmic** form to sum up the probabilities.\n"
      ]
    },
    {
      "cell_type": "markdown",
      "metadata": {
        "id": "nOnkgDIXTMCQ"
      },
      "source": [
        "#### Question 2\n",
        "Run a Naive Bayes classifier on the training data and apply predictions on the test data. Use the [sklearn.naive_bayes.BernoulliNB](http://scikit-learn.org/stable/modules/generated/sklearn.naive_bayes.BernoulliNB.html) implementation (see the [source code for sklearn.naive_bayes](https://github.com/scikit-learn/scikit-learn/blob/master/sklearn/naive_bayes.py) for details).\n",
        "\n",
        "Remember we need to preprocess the data in this case such that each pixel would become either black (0) or white (1). For this, use the `binarize` parameter of the implementation. Set this value to $0$ (this is the default), which in this case would mean every pixel with non-zero value will be set to 1.\n",
        "\n",
        "1. Plot the mean image of each class (estimated $\\hat{p}_{ji}$) and generate one sample of each class (remember, you can do this since this is a generative model). You will need to access the `feature_log_prob_` attribute of the trained model.\n",
        "\n",
        "2. Plot the confusion matrix of your classifier, as claculated on the test data (it is recommended to use [sklearn.metrics.confusion_matrix](http://scikit-learn.org/stable/modules/generated/sklearn.metrics.confusion_matrix.html)). Calculate the total accuracy (fraction of correctly classified images), and summarize the results in your own words.\n",
        "\n",
        "3. Think of a way you can find the optimal threshold of the binarization part. **There is no need to actually perform this task --- just describe what you would have done.**\n"
      ]
    },
    {
      "cell_type": "markdown",
      "metadata": {
        "id": "ZKdsdegDWaO_"
      },
      "source": [
        "#### Answer 2\n"
      ]
    },
    {
      "cell_type": "code",
      "metadata": {
        "colab": {
          "base_uri": "https://localhost:8080/"
        },
        "id": "LbJF6ZQu6iar",
        "outputId": "cf3405b4-ecc7-4321-c0b9-6cb792caa12c"
      },
      "source": [
        "bnb = BernoulliNB(binarize=0) # every pixel with value greater than 0 will be set to 1.\n",
        "bnb.fit(x_train, y_train)"
      ],
      "execution_count": 42,
      "outputs": [
        {
          "output_type": "execute_result",
          "data": {
            "text/plain": [
              "BernoulliNB(binarize=0)"
            ]
          },
          "metadata": {},
          "execution_count": 42
        }
      ]
    },
    {
      "cell_type": "code",
      "metadata": {
        "colab": {
          "base_uri": "https://localhost:8080/",
          "height": 159
        },
        "id": "iKu920-CIzXv",
        "outputId": "0578f39a-3f19-4e2d-897e-575287422a31"
      },
      "source": [
        "print(\"mean images\")\n",
        "plt.figure(figsize=(20,20))\n",
        "\n",
        "for i in range(10):\n",
        "  # e to the power of the likelihood will give us the probability of the pixel to be 1, thus basically getting the average shape of each number\n",
        "  P_xy = np.exp(bnb.feature_log_prob_[i])\n",
        "  plt.subplot(1,10, i+1)\n",
        "  # reshape to (28,28) matrix\n",
        "  plt.imshow(P_xy.reshape(28,28), cmap='gray')\n",
        "  # the number above the mean image\n",
        "  plt.title(i)\n",
        "  plt.axis('off')"
      ],
      "execution_count": 43,
      "outputs": [
        {
          "output_type": "stream",
          "name": "stdout",
          "text": [
            "mean images\n"
          ]
        },
        {
          "output_type": "display_data",
          "data": {
            "image/png": "[encoded data removed]",
            "text/plain": [
              "<Figure size 1440x1440 with 10 Axes>"
            ]
          },
          "metadata": {
            "needs_background": "light"
          }
        }
      ]
    },
    {
      "cell_type": "code",
      "metadata": {
        "colab": {
          "base_uri": "https://localhost:8080/",
          "height": 159
        },
        "id": "MaevJfaoQUGF",
        "outputId": "f719a0d0-dd9f-417a-81ee-3d86a651bf58"
      },
      "source": [
        "print('generate samples')\n",
        "plt.figure(figsize=(20,20))\n",
        "\n",
        "for i in range(10):\n",
        "  # e to the power of the likelihood will give us the probability of the pixel to be 1, thus basically getting the average shape of each number\n",
        "  gen_digit_prob = np.exp(bnb.feature_log_prob_[i])\n",
        "  # Each likelihood of pixel will serve as a probability to be 1.\n",
        "  array = map(lambda x: np.random.binomial(size=1,n=1,p=x)[0], gen_digit_prob)\n",
        "  # reshape to (28,28) matrix\n",
        "  image = np.fromiter(array,dtype=np.int).reshape((28,28))\n",
        "  plt.subplot(1,10, i+1)\n",
        "  plt.imshow(image, cmap='gray')\n",
        "  plt.title(i)\n",
        "  plt.axis('off')"
      ],
      "execution_count": 44,
      "outputs": [
        {
          "output_type": "stream",
          "name": "stdout",
          "text": [
            "generate samples\n"
          ]
        },
        {
          "output_type": "display_data",
          "data": {
            "image/png": "[encoded data removed]",
            "text/plain": [
              "<Figure size 1440x1440 with 10 Axes>"
            ]
          },
          "metadata": {
            "needs_background": "light"
          }
        }
      ]
    },
    {
      "cell_type": "code",
      "metadata": {
        "colab": {
          "base_uri": "https://localhost:8080/",
          "height": 478
        },
        "id": "eA-UqPdWwh_l",
        "outputId": "a6a25996-b4c9-4027-bf15-7ecc197eb780"
      },
      "source": [
        "y_test_pred = bnb.predict(x_test)\n",
        "plt.figure(figsize=(10,7))\n",
        "confusion_m = confusion_matrix(y_test, y_test_pred)\n",
        "ax = sns.heatmap(confusion_m, annot=True, fmt=\"d\")\n",
        "plt.ylabel('Real label')\n",
        "plt.xlabel('Predicted label')\n",
        "\n",
        "# Calculate the total accuracy\n",
        "print('mean accuracy on test data: ' , bnb.score(x_test,y_test))\n",
        "print('mean accuracy on train data: ' , bnb.score(x_train,y_train))"
      ],
      "execution_count": 45,
      "outputs": [
        {
          "output_type": "stream",
          "name": "stdout",
          "text": [
            "mean accuracy on test data:  0.8413\n",
            "mean accuracy on train data:  0.83125\n"
          ]
        },
        {
          "output_type": "display_data",
          "data": {
            "image/png": "[encoded data removed]",
            "text/plain": [
              "<Figure size 720x504 with 2 Axes>"
            ]
          },
          "metadata": {
            "needs_background": "light"
          }
        }
      ]
    },
    {
      "cell_type": "markdown",
      "metadata": {
        "id": "6jfYfydsXsiQ"
      },
      "source": [
        "**--2--** \\\\\n",
        "**a.** The accuracy of the model on the test set is 84.4%, which means that the generative model works well. \\\\\n",
        "**b.** It can be seen that the accuracy between the test set and the train is almost the same, meaning that the model is not in an over-fitting state. \\\\\n",
        "**c.** The largest number of errors was when the model predicted the number 5 as 3 and when the model predicted the number 4 as 9, and indeed it can be seen that their shapes are relatively similar, But even so, when the model predicted 3 as 5 and 9 as 4 he was less wrong."
      ]
    },
    {
      "cell_type": "markdown",
      "metadata": {
        "id": "rpZB8g8TaBXw"
      },
      "source": [
        "**--3--** \\\\\n",
        "We can iteratively go through the numbers from 0 to 255 and check which of these numbers will serve as the treshold of the binarize parameter. we will choose the number that will give the model with the highest scores on the test_set."
      ]
    },
    {
      "cell_type": "markdown",
      "metadata": {
        "id": "lKSgnectrTJ1"
      },
      "source": [
        "## 2. Classifing Text Documents using Multinomial Naive Bayes\n",
        "In this exercise you will classify the \"20 newsgroups\" data set using your own naive bayes classifier and compare to the scikit learn built in version.\n",
        "\n",
        "The 20 newsgroups dataset comprises around 18000 newsgroups posts on 20 topics split in two subsets: one for training (or development) and the other one for testing (or for performance evaluation). The split between the train and test set is based upon messages posted before and after a specific date.\n",
        "\n",
        "### You task\n",
        "Implement the barebone class provided: `NaiveBayes(BaseEstimator, ClassifierMixin)` and implement its `fit`, `predict` and `predict_proba` methods.\n",
        "\n",
        "Then follow next anlysis guidlinnes using the implemented class for train and test classifier:\n",
        "* Load the **train** data using `from sklearn.datasets import fetch_20newsgroups`. remove headers, footers and quotes (see documentation)\n",
        "* Use `sklearn.feature_extraction.text import CountVectorizer` to count words (stop_words='english')\n",
        "* use `sklearn.pipeline.make_pipeline` to chain the vectroizer and model.\n",
        "* note: limit the vocuabolary size if you suffer memory issues\n",
        "* compare the accuracy over the **test** data. You can use `accuracy_score, classification_report`\n",
        "* compare to the built in `sklearn.naive_bayes.MultinomialNB`\n",
        "* compare to `TfidfVectorizer` preprocessing (you can use the built in model for doing the analysis)\n",
        "* plot the learning curve - is the model in the bias or variance regime (you can use the built in model for doing the analysis)\n",
        "* optimize performance in respect to vectorizer hyper parameters (e.g. max_features, max_df etc.).\n"
      ]
    },
    {
      "cell_type": "markdown",
      "metadata": {
        "id": "scMF97OiVy-B"
      },
      "source": [
        "**Load the train data using from sklearn.datasets import fetch_20newsgroups. remove headers, footers and quotes (see documentation)**"
      ]
    },
    {
      "cell_type": "code",
      "metadata": {
        "id": "2M8c6biMakkx"
      },
      "source": [
        "train = fetch_20newsgroups(remove=('headers', 'footers', 'quotes'), subset='train')\n",
        "test = fetch_20newsgroups(remove=('headers', 'footers', 'quotes'), subset='test')"
      ],
      "execution_count": 46,
      "outputs": []
    },
    {
      "cell_type": "code",
      "metadata": {
        "id": "FEbVc4Ixxe6L"
      },
      "source": [
        "class NaiveBayes(BaseEstimator, ClassifierMixin):\n",
        "  def fit(self, x, y):\n",
        "    x = x.toarray()\n",
        "    # number of features\n",
        "    self.n_features = x.shape[1]\n",
        "    # number of labels\n",
        "    self.n_labels = len(set(y))\n",
        "    self.log_prior = {}\n",
        "    self.log_likelihood = {}\n",
        "    for label in range(self.n_labels):\n",
        "      x_label = x[label == y] ## save all vectors in train set with the same labels\n",
        "      self.log_prior[str(label)] = np.log(x_label.shape[0] / x.shape[0]) ## priority of each label\n",
        "      self.log_likelihood[str(label)] = np.log((x_label.sum(0) + 1) / (x_label.sum(0).sum() + self.n_features)) ## Add 1 for smoothing\n",
        "\n",
        "  def predict_log_proba(self, x):\n",
        "    x =x.toarray()\n",
        "    # (20,n_features) matrix of zero's\n",
        "    probs = np.zeros((x.shape[0],self.n_labels))\n",
        "  \n",
        "    for document in range(x.shape[0]):\n",
        "      for label in range(self.n_labels):\n",
        "        # log on X array\n",
        "        array_prob = self.log_likelihood[str(label)]\n",
        "        # sum the priority of the label with the word likelihoods\n",
        "        probs[document][label] = self.log_prior[str(label)] + (x[document] * array_prob.T).sum()\n",
        "    return probs\n",
        "\n",
        "  def predict(self, x): # return the label that naximize the probability for each text\n",
        "    return np.argmax(self.predict_log_proba(x), axis=1)"
      ],
      "execution_count": 63,
      "outputs": []
    },
    {
      "cell_type": "code",
      "metadata": {
        "id": "R3Ii8hGJc650"
      },
      "source": [
        "#compare the accuracy over the test data. You can use accuracy_score, classification_report\n",
        "model = make_pipeline(CountVectorizer(stop_words='english',max_features=10000), NaiveBayes())\n",
        "model.fit(train.data, train.target)\n",
        "labels = model.predict(test.data)"
      ],
      "execution_count": 64,
      "outputs": []
    },
    {
      "cell_type": "code",
      "metadata": {
        "colab": {
          "base_uri": "https://localhost:8080/"
        },
        "id": "WV-jKz4YyUVI",
        "outputId": "dbeba90c-d8b0-4763-91f1-a9823b87a8e4"
      },
      "source": [
        "score = metrics.accuracy_score(test.target, labels)\n",
        "print(\"accuracy of our model is :   %0.3f\" % score)\n",
        "print(\"classification report our NB :\")\n",
        "class_report = metrics.classification_report(test.target, labels,\n",
        "                                            target_names=test.target_names)\n",
        "print(class_report)"
      ],
      "execution_count": 65,
      "outputs": [
        {
          "output_type": "stream",
          "name": "stdout",
          "text": [
            "accuracy of our model is :   0.628\n",
            "classification report our NB :\n",
            "                          precision    recall  f1-score   support\n",
            "\n",
            "             alt.atheism       0.44      0.50      0.47       319\n",
            "           comp.graphics       0.51      0.71      0.60       389\n",
            " comp.os.ms-windows.misc       0.33      0.00      0.01       394\n",
            "comp.sys.ibm.pc.hardware       0.47      0.67      0.55       392\n",
            "   comp.sys.mac.hardware       0.57      0.65      0.61       385\n",
            "          comp.windows.x       0.71      0.69      0.70       395\n",
            "            misc.forsale       0.80      0.73      0.76       390\n",
            "               rec.autos       0.68      0.72      0.70       396\n",
            "         rec.motorcycles       0.71      0.74      0.73       398\n",
            "      rec.sport.baseball       0.81      0.79      0.80       397\n",
            "        rec.sport.hockey       0.55      0.79      0.65       399\n",
            "               sci.crypt       0.76      0.68      0.72       396\n",
            "         sci.electronics       0.61      0.51      0.55       393\n",
            "                 sci.med       0.81      0.72      0.76       396\n",
            "               sci.space       0.79      0.70      0.74       394\n",
            "  soc.religion.christian       0.56      0.77      0.65       398\n",
            "      talk.politics.guns       0.58      0.64      0.61       364\n",
            "   talk.politics.mideast       0.78      0.70      0.74       376\n",
            "      talk.politics.misc       0.47      0.42      0.44       310\n",
            "      talk.religion.misc       0.34      0.21      0.26       251\n",
            "\n",
            "                accuracy                           0.63      7532\n",
            "               macro avg       0.61      0.62      0.60      7532\n",
            "            weighted avg       0.62      0.63      0.61      7532\n",
            "\n"
          ]
        }
      ]
    },
    {
      "cell_type": "code",
      "metadata": {
        "id": "s1BylPrS0cn_"
      },
      "source": [
        "model = make_pipeline(CountVectorizer(stop_words='english',max_features=10000), MultinomialNB())\n",
        "model.fit(train.data, train.target)\n",
        "labels = model.predict(test.data)"
      ],
      "execution_count": 50,
      "outputs": []
    },
    {
      "cell_type": "code",
      "metadata": {
        "colab": {
          "base_uri": "https://localhost:8080/"
        },
        "id": "gienGOzx0zZH",
        "outputId": "b2712658-128c-4c16-b676-520f3cd537a2"
      },
      "source": [
        "score = metrics.accuracy_score(test.target, labels)\n",
        "print(\"accuracy of our model is :   %0.3f\" % score)\n",
        "print(\"classification report our NB :\")\n",
        "classification_report = metrics.classification_report(test.target, labels,\n",
        "                                            target_names=test.target_names)\n",
        "print(classification_report)"
      ],
      "execution_count": 51,
      "outputs": [
        {
          "output_type": "stream",
          "name": "stdout",
          "text": [
            "accuracy of our model is :   0.628\n",
            "classification report our NB :\n",
            "                          precision    recall  f1-score   support\n",
            "\n",
            "             alt.atheism       0.44      0.50      0.47       319\n",
            "           comp.graphics       0.51      0.71      0.60       389\n",
            " comp.os.ms-windows.misc       0.33      0.00      0.01       394\n",
            "comp.sys.ibm.pc.hardware       0.47      0.67      0.55       392\n",
            "   comp.sys.mac.hardware       0.57      0.65      0.61       385\n",
            "          comp.windows.x       0.71      0.69      0.70       395\n",
            "            misc.forsale       0.80      0.73      0.76       390\n",
            "               rec.autos       0.68      0.72      0.70       396\n",
            "         rec.motorcycles       0.71      0.74      0.73       398\n",
            "      rec.sport.baseball       0.81      0.79      0.80       397\n",
            "        rec.sport.hockey       0.55      0.79      0.65       399\n",
            "               sci.crypt       0.76      0.68      0.72       396\n",
            "         sci.electronics       0.61      0.51      0.55       393\n",
            "                 sci.med       0.81      0.72      0.76       396\n",
            "               sci.space       0.79      0.70      0.74       394\n",
            "  soc.religion.christian       0.56      0.77      0.65       398\n",
            "      talk.politics.guns       0.58      0.64      0.61       364\n",
            "   talk.politics.mideast       0.78      0.70      0.74       376\n",
            "      talk.politics.misc       0.47      0.42      0.44       310\n",
            "      talk.religion.misc       0.34      0.21      0.26       251\n",
            "\n",
            "                accuracy                           0.63      7532\n",
            "               macro avg       0.61      0.62      0.60      7532\n",
            "            weighted avg       0.62      0.63      0.61      7532\n",
            "\n"
          ]
        }
      ]
    },
    {
      "cell_type": "markdown",
      "metadata": {
        "id": "sp_JuqFJStEI"
      },
      "source": [
        "**Our NB VS sklearn's model Discutions:**\\\n",
        "We can see that the accuracy of the two models for 10000 features is the same(0.628), which means that we were able to realize well the idea of naive bayes while making a smooth for the probabilities of the words in each class."
      ]
    },
    {
      "cell_type": "markdown",
      "metadata": {
        "id": "FIwQYLF0Vtc6"
      },
      "source": [
        "**compare to TfidfVectorizer preprocessing (you can use the built in model for doing the analysis)**"
      ]
    },
    {
      "cell_type": "code",
      "metadata": {
        "id": "zWsYx75g5JNS"
      },
      "source": [
        "model = make_pipeline(TfidfVectorizer(stop_words='english',max_features=10000), NaiveBayes())\n",
        "model.fit(train.data, train.target)\n",
        "labels = model.predict(test.data)"
      ],
      "execution_count": 52,
      "outputs": []
    },
    {
      "cell_type": "code",
      "metadata": {
        "colab": {
          "base_uri": "https://localhost:8080/"
        },
        "id": "g-_TnuXp5nKQ",
        "outputId": "a970d0f7-f6b5-4647-f62b-c7bb27773c42"
      },
      "source": [
        "score = metrics.accuracy_score(test.target, labels)\n",
        "print(\"accuracy of our model is :   %0.3f\" % score)\n",
        "print(\"classification report our NB :\")\n",
        "classification_report = metrics.classification_report(test.target, labels,\n",
        "                                            target_names=test.target_names)\n",
        "print(classification_report)"
      ],
      "execution_count": 53,
      "outputs": [
        {
          "output_type": "stream",
          "name": "stdout",
          "text": [
            "accuracy of our model is :   0.675\n",
            "classification report our NB :\n",
            "                          precision    recall  f1-score   support\n",
            "\n",
            "             alt.atheism       0.61      0.26      0.37       319\n",
            "           comp.graphics       0.61      0.68      0.65       389\n",
            " comp.os.ms-windows.misc       0.64      0.61      0.63       394\n",
            "comp.sys.ibm.pc.hardware       0.60      0.69      0.64       392\n",
            "   comp.sys.mac.hardware       0.74      0.65      0.70       385\n",
            "          comp.windows.x       0.79      0.76      0.78       395\n",
            "            misc.forsale       0.76      0.79      0.77       390\n",
            "               rec.autos       0.75      0.70      0.73       396\n",
            "         rec.motorcycles       0.79      0.74      0.77       398\n",
            "      rec.sport.baseball       0.88      0.79      0.84       397\n",
            "        rec.sport.hockey       0.56      0.92      0.70       399\n",
            "               sci.crypt       0.74      0.75      0.74       396\n",
            "         sci.electronics       0.67      0.50      0.57       393\n",
            "                 sci.med       0.83      0.75      0.79       396\n",
            "               sci.space       0.76      0.73      0.75       394\n",
            "  soc.religion.christian       0.42      0.90      0.58       398\n",
            "      talk.politics.guns       0.56      0.71      0.63       364\n",
            "   talk.politics.mideast       0.82      0.78      0.80       376\n",
            "      talk.politics.misc       0.79      0.35      0.48       310\n",
            "      talk.religion.misc       0.62      0.02      0.04       251\n",
            "\n",
            "                accuracy                           0.67      7532\n",
            "               macro avg       0.70      0.66      0.65      7532\n",
            "            weighted avg       0.70      0.67      0.66      7532\n",
            "\n"
          ]
        }
      ]
    },
    {
      "cell_type": "markdown",
      "metadata": {
        "id": "L-zntI2Eltx5"
      },
      "source": [
        "**TfidfVectorizer VS CountVectorizer Discutions:** \\\\\n",
        "from the accuracy measure, we can see that the TfidfVectorizer performs a bit better, (0.675 vs 0.628). the difference between the two that the TfidfVectorizer returns scores and the CountVectorizer returns counts. \\\\\n",
        "we can learn from this test that in this case, the more complicated model wins. "
      ]
    },
    {
      "cell_type": "code",
      "metadata": {
        "id": "sGrmdkg2QWzN"
      },
      "source": [
        "import numpy as np\n",
        "import matplotlib.pyplot as plt\n",
        "from sklearn.model_selection import learning_curve\n",
        "from sklearn.model_selection import ShuffleSplit\n",
        "\n",
        "\n",
        "def plot_learning_curve(\n",
        "    estimator,\n",
        "    title,\n",
        "    X,\n",
        "    y,\n",
        "    ylim=None,\n",
        "    cv=None,\n",
        "    n_jobs=None,\n",
        "    train_sizes=np.linspace(0.1, 1.0, 5)):\n",
        "\n",
        "    plt.figure()\n",
        "    plt.title(title)\n",
        "    if ylim is not None:\n",
        "        plt.ylim(*ylim)\n",
        "    plt.xlabel(\"Training examples\")\n",
        "    plt.ylabel(\"Score\")\n",
        "    train_sizes, train_scores, test_scores = learning_curve(\n",
        "        estimator, X, y, cv=cv, n_jobs=n_jobs, train_sizes=train_sizes)\n",
        "    train_scores_mean = np.mean(train_scores, axis=1)\n",
        "    train_scores_std = np.std(train_scores, axis=1)\n",
        "    test_scores_mean = np.mean(test_scores, axis=1)\n",
        "    test_scores_std = np.std(test_scores, axis=1)\n",
        "    plt.grid()\n",
        "\n",
        "    plt.fill_between(train_sizes, train_scores_mean - train_scores_std,\n",
        "                     train_scores_mean + train_scores_std, alpha=0.1,\n",
        "                     color=\"r\")\n",
        "    plt.fill_between(train_sizes, test_scores_mean - test_scores_std,\n",
        "                     test_scores_mean + test_scores_std, alpha=0.1, color=\"g\")\n",
        "    plt.plot(train_sizes, train_scores_mean, 'o-', color=\"r\",\n",
        "             label=\"Training score\")\n",
        "    plt.plot(train_sizes, test_scores_mean, 'o-', color=\"g\",\n",
        "             label=\"Cross-validation score\")\n",
        "\n",
        "    plt.legend(loc=\"best\")\n",
        "    return plt"
      ],
      "execution_count": 54,
      "outputs": []
    },
    {
      "cell_type": "code",
      "metadata": {
        "colab": {
          "base_uri": "https://localhost:8080/",
          "height": 295
        },
        "id": "K00OXtysO3qW",
        "outputId": "42df2b5f-9d1e-4f0d-e44e-7c49e98add40"
      },
      "source": [
        "title = r\"Learning curves Naive-Bayes\"\n",
        "dataset = fetch_20newsgroups(remove=('headers', 'footers', 'quotes'))\n",
        "cv = ShuffleSplit(n_splits = 5, test_size=0.2, random_state=2)\n",
        "plot_learning_curve(make_pipeline(TfidfVectorizer(stop_words='english', max_features=10000), NaiveBayes()), title, dataset.data, dataset.target, ylim=(0, 1.01), cv=cv)\n",
        "\n",
        "plt.show()"
      ],
      "execution_count": 55,
      "outputs": [
        {
          "output_type": "display_data",
          "data": {
            "image/png": "[encoded data removed]",
            "text/plain": [
              "<Figure size 432x288 with 1 Axes>"
            ]
          },
          "metadata": {
            "needs_background": "light"
          }
        }
      ]
    },
    {
      "cell_type": "markdown",
      "metadata": {
        "id": "_PHLIOGUZMh2"
      },
      "source": [
        "**Explain** - \\\\\n",
        "In the beginning when the training set is small the bias is low because the success rate in the training set is high and as the number of samples in the training set increases the bias increases because the success rate on the training set becomes smaller.\\\n",
        "On the other hand the variance is high at first because the success rates on the testing set are low but as the number of samples increases the success rates on the testing set increase so the variance is small.\n"
      ]
    },
    {
      "cell_type": "markdown",
      "metadata": {
        "id": "d1S_v22_vDCs"
      },
      "source": [
        "\n",
        "### Bonus I (5 points)\n",
        "#### Model interpretability\n",
        "Find the most important features for a **specific** decision of a NB classifier.\n",
        "Because the model has learned the prior $p(x_i|c)$ during the training, the contribution of an individual feature value can be easily measured by the posterior, $p(c|x_i)=p(c)p(x_i|c)/p(x_i)$\n",
        "Implement a function which gets a scikit-learn NB model as input and returns $P(c|x_i)$:\n",
        "\n",
        "`def calc_p_c_given_xi(model)`\n",
        "\n",
        "Hint: Use the following model properties:\n",
        "\n",
        "* `model.class_log_prior_`\n",
        "* `model.feature_log_prob_`\n",
        "\n",
        "Note: remember these are logs and you need to use np.exp and normalize to get $P(c|x_i)$ \n",
        "Another hint: use numpy built-in broadcasting property.\n",
        "\n",
        "* Use the interpretation to examine errors of the classifier where $\\hat{c}\\ne c$. Which top words support the correct class and which support the wrong class? You can use the `print_txt` below to color words."
      ]
    },
    {
      "cell_type": "code",
      "metadata": {
        "id": "WrTOhkHV9msW",
        "colab": {
          "base_uri": "https://localhost:8080/"
        },
        "outputId": "b271f250-32f6-4b82-9cf2-ee64865447b1"
      },
      "source": [
        "import string\n",
        "def print_txt(txt, hot, cold):\n",
        "  \"\"\"\n",
        "  print the text, coloring hot and cold words with colors\n",
        "  \"\"\"\n",
        "  cold_color='\\x1b[41;37m{}\\x1b[0m'\n",
        "  hot_color='\\x1b[42;37m{}\\x1b[0m'\n",
        "  def color(token):\n",
        "    lower = str(token).lower()\n",
        "    lower = lower.replace('\\t','').replace('\\n','')\n",
        "    lower = lower.translate(string.punctuation)\n",
        "    if (lower in hot) and (lower in cold):\n",
        "      return mid_color.format(token)\n",
        "    elif lower in hot:\n",
        "      return hot_color.format(token)\n",
        "    elif lower in cold:\n",
        "      return cold_color.format(token)\n",
        "    else:\n",
        "      return token\n",
        "  colored_txt = \" \".join([color(token) for token in txt.split(' ')])\n",
        "  print(colored_txt)\n",
        "print_txt('This word support the first class but this the other', ['word'],['other'])"
      ],
      "execution_count": 56,
      "outputs": [
        {
          "output_type": "stream",
          "name": "stdout",
          "text": [
            "This \u001b[42;37mword\u001b[0m support the first class but this the \u001b[41;37mother\u001b[0m\n"
          ]
        }
      ]
    },
    {
      "cell_type": "code",
      "metadata": {
        "id": "9Vz_BLhZwI9U"
      },
      "source": [
        "def calc_p_c_given_xi(model):\n",
        "  pcxi = np.zeros((20, model.feature_log_prob_.shape[1]))\n",
        "\n",
        "  pXi = model.feature_count_.sum(0) / model.feature_count_.sum()\n",
        "\n",
        "  pc = np.exp(1)**model.class_log_prior_\n",
        "  \n",
        "  pxCi = np.exp(1)**model.feature_log_prob_\n",
        "\n",
        "  pcxi = (pc * pxCi.T) / pXi.reshape((pXi.shape[0],1))\n",
        "\n",
        "  return pcxi.T"
      ],
      "execution_count": 57,
      "outputs": []
    },
    {
      "cell_type": "code",
      "metadata": {
        "id": "ND9F-gFJRFVO"
      },
      "source": [
        "def good_bad_Words(sentence, pipeline, pcxi, p_class, badClass):\n",
        "  counter = CountVectorizer(stop_words = \"english\")\n",
        "  existWords = {}\n",
        "  correct = []\n",
        "  wrong = []\n",
        "  vec = pipeline[\"countvectorizer\"]\n",
        "\n",
        "  X = counter.fit_transform([sentence])\n",
        "  words = counter.get_feature_names_out()\n",
        "  for word in words:\n",
        "    try:\n",
        "      existWords[word] = vec.vocabulary_[word]\n",
        "    except KeyError:\n",
        "      continue\n",
        "  \n",
        "  for word, index in existWords.items():\n",
        "    argMax = np.argmax(pcxi[:, index])\n",
        "    if argMax == p_class:\n",
        "      correct.append(word)\n",
        "    elif argMax == badClass:\n",
        "      wrong.append(word)\n",
        "  \n",
        "  return correct, wrong"
      ],
      "execution_count": 58,
      "outputs": []
    },
    {
      "cell_type": "code",
      "metadata": {
        "colab": {
          "base_uri": "https://localhost:8080/"
        },
        "id": "ztnZuvBZwqjG",
        "outputId": "61af95b1-bafc-4b1d-9173-8c000647ed86"
      },
      "source": [
        "# Model\n",
        "model = make_pipeline(CountVectorizer(stop_words='english'), MultinomialNB())\n",
        "model.fit(train.data, train.target)\n",
        "# pcxi matrix\n",
        "pcxi = calc_p_c_given_xi(model['multinomialnb'])\n",
        "# wrong class of row 7\n",
        "badClass = model.predict(test.data)[7]\n",
        "# right class of row 7\n",
        "pClass = test.target[7]\n",
        "# sentence of row 7\n",
        "Sentence = test.data[7]\n",
        "#this function gives us the correct and wrong words of each sentence\n",
        "correct, wrong = good_bad_Words(Sentence, model, pcxi, pClass, badClass)\n",
        "# use print text\n",
        "print_txt(Sentence, correct, wrong)\n"
      ],
      "execution_count": 59,
      "outputs": [
        {
          "output_type": "stream",
          "name": "stdout",
          "text": [
            "A friend of mine managed to get a \u001b[41;37mcopy\u001b[0m of a computerised Greek and \u001b[42;37mHebrew\u001b[0m \n",
            "Lexicon called \"The \u001b[42;37mWord\u001b[0m Perfect\" (That is not the \u001b[42;37mword\u001b[0m processing \n",
            "package WordPerfect). However, some one wiped out the EXE file, and she \n",
            "has not been able to \u001b[41;37mrestore\u001b[0m it. There are no distributors of the package in \n",
            "South Africa. I would \u001b[41;37mappreciate\u001b[0m it, if some one could email me the file, or \n",
            "at least tell me where I could get it from. \n",
            "\n",
            "My email address is\n",
            "\tfortmann@superbowl.und.ac.za     or\n",
            "\tfortmann@shrike.und.ac.za\n",
            " \n",
            "Many thanks.\n"
          ]
        }
      ]
    },
    {
      "cell_type": "markdown",
      "metadata": {
        "id": "kww6g1jGv_Fw"
      },
      "source": [
        "### Bonus II (5 points)\n",
        "#### How can you correct the analyzed error?\n",
        "\n",
        "To read more about model interpretation, see the blogpost below and the tutorial:\n",
        "* https://lilianweng.github.io/lil-log/2017/08/01/how-to-explain-the-prediction-of-a-machine-learning-model.html\n",
        "* https://github.com/chanansh/right_but_why"
      ]
    },
    {
      "cell_type": "markdown",
      "metadata": {
        "id": "K4QrAGdiwD6f"
      },
      "source": [
        "Answer for 2nd bonus"
      ]
    },
    {
      "cell_type": "markdown",
      "metadata": {
        "id": "s2JOVfb_ZNde"
      },
      "source": [
        "1. **Word Frequency Information -** \\\\\n",
        "In a text if a particular word appears once it is more likely to appear again, whereas in the Naive Base model we assume the number of occurrences of a word in the text, and multiply its number of occurrences by its probability given a particular class, so to avoid this you can smooth over a number The occurrences of a word. \\\\\n",
        "Xₜ' = log(Xₜ + 1) **or** Xₜ = min{1,Xₜ} - for smooth the frequency\n",
        "\n",
        "2. **Prior probabilities -** \\\\\n",
        "In texts where the number of words is not large the priority of each class has a greater effect, so instead of training the priority of each class according to the training set, it is possible to give the same probability to each class in a uniform way.\n",
        "\n",
        "3. **Feature selection(CRQ)** - \\\\\n",
        "To improve the way words are selected as features, the CRQ-cluster representation quality scoring method can be used.\n",
        "The purpose of this scoring method is that unlike the option of choosing the words that will serve us as features only by their probability, in this method we look for word groups that belong to the same cluster and minimize the distance between them, and on the other hand maximize the distance between words in different clusters.\n",
        "Basically with the help of this method we will extract words from the dictionary whose publication will improve the quality of the cluster."
      ]
    }
  ]
}
